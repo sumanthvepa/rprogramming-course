{
  "cells": [
    {
      "cell_type": "markdown",
      "id": "ea81771e",
      "metadata": {
        "id": "ea81771e"
      },
      "source": [
        "# Session 1: Why this Course? Why R?"
      ]
    },
    {
      "cell_type": "markdown",
      "id": "23f5dbed",
      "metadata": {
        "id": "23f5dbed"
      },
      "source": [
        "## Course Objectives\n",
        "- Learn fundamentals of R programming\n",
        "- Apply R to real-world economic, finance, marketing, IT, and AI/ML problems\n",
        "- Build workflow skills with R projects\n",
        "- Gain practical experience with data analysis, modeling, and visualization"
      ]
    },
    {
      "cell_type": "markdown",
      "id": "ec4fc3e6",
      "metadata": {
        "id": "ec4fc3e6"
      },
      "source": [
        "## Course Mechanics\n",
        "- Labs, Assignments, Exams\n",
        "- Getting Help\n",
        "- LLM Use Policy\n",
        "- Honor Code"
      ]
    },
    {
      "cell_type": "markdown",
      "id": "58d45257",
      "metadata": {
        "id": "58d45257"
      },
      "source": [
        "## What is R? Why Use R?\n",
        "- Open-source language for statistics and data analysis\n",
        "- Rich ecosystem of packages (CRAN, Bioconductor)\n",
        "- Strong visualization tools (ggplot2, lattice)\n",
        "- Used widely in academia, finance, marketing, and data science\n",
        "- Integrates well with reproducible research workflows"
      ]
    },
    {
      "cell_type": "markdown",
      "id": "49151bd2",
      "metadata": {
        "id": "49151bd2"
      },
      "source": [
        "## Workflow in an R Project\n",
        "1. Define the problem\n",
        "2. Gather and clean data\n",
        "3. Explore data visually\n",
        "4. Build and validate models\n",
        "5. Interpret results\n",
        "6. Communicate findings"
      ]
    },
    {
      "cell_type": "markdown",
      "id": "39c7ea44",
      "metadata": {
        "id": "39c7ea44"
      },
      "source": [
        "## Running Examples Overview\n",
        "We will use a series of running examples from real-world problems:\n",
        "1. Microeconomics: Estimating Demand Elasticity\n",
        "2. Macroeconomics: Modelling GDP growth using ARIMA/S-ARIMA\n",
        "3. Finance (derivatives): Pricing Options using Black-Scholes\n",
        "4. Finance (insurance): Ruin-Theory Simulation\n",
        "5. Digital Marketing: A/B Testing\n",
        "6. IT: Code Quality Analysis\n",
        "7. AI/ML: Image Classification using CNNs"
      ]
    },
    {
      "cell_type": "code",
      "source": [
        "# Required packages\n",
        "# Only install packages once.\n",
        "if (!requireNamespace(\"forecast\", quietly = TRUE)) {\n",
        "  install.packages(\"forecast\", repos = \"http://cran.us.r-project.org\")\n",
        "}\n",
        "library(forecast)\n"
      ],
      "metadata": {
        "colab": {
          "base_uri": "https://localhost:8080/"
        },
        "id": "VnabrZdoU38L",
        "outputId": "88817b8d-0ef6-49ce-e940-0e3a375d731c"
      },
      "id": "VnabrZdoU38L",
      "execution_count": 3,
      "outputs": [
        {
          "output_type": "stream",
          "name": "stderr",
          "text": [
            "Registered S3 method overwritten by 'quantmod':\n",
            "  method            from\n",
            "  as.zoo.data.frame zoo \n",
            "\n"
          ]
        }
      ]
    },
    {
      "cell_type": "markdown",
      "id": "c89ca120",
      "metadata": {
        "id": "c89ca120"
      },
      "source": [
        "## Example 1: Microeconomics – Estimating Demand Elasticity\n",
        "\n",
        "**Concept:** How sensitive is demand to price changes?\n",
        "\n",
        "Elasticity formula:\n",
        "$$E_d = \\frac{\\%\\,\\Delta Q}{\\%\\,\\Delta P}$$\n",
        "\n",
        "**Model:** Log-log regression\n",
        "\n",
        "$$ \\ln(Q) = \\beta_0 + \\beta_1 \\ln(P) + \\beta_2 \\text{Advertising} + \\varepsilon $$"
      ]
    },
    {
      "cell_type": "code",
      "execution_count": 1,
      "id": "c2f4b4be",
      "metadata": {
        "colab": {
          "base_uri": "https://localhost:8080/",
          "height": 356
        },
        "id": "c2f4b4be",
        "outputId": "c7cddfb4-5789-409c-9c35-2e258aee450a"
      },
      "outputs": [
        {
          "output_type": "display_data",
          "data": {
            "text/plain": [
              "\n",
              "Call:\n",
              "lm(formula = log(Quantity) ~ log(Price) + Advertising, data = demand)\n",
              "\n",
              "Residuals:\n",
              "         1          2          3          4 \n",
              "-9.922e-04  5.209e-04  4.712e-04  5.421e-19 \n",
              "\n",
              "Coefficients:\n",
              "              Estimate Std. Error t value Pr(>|t|)   \n",
              "(Intercept)  8.351e+00  2.047e-02   407.9  0.00156 **\n",
              "log(Price)  -8.907e-01  8.564e-03  -104.0  0.00612 **\n",
              "Advertising -4.239e-04  2.808e-05   -15.1  0.04211 * \n",
              "---\n",
              "Signif. codes:  0 ‘***’ 0.001 ‘**’ 0.01 ‘*’ 0.05 ‘.’ 0.1 ‘ ’ 1\n",
              "\n",
              "Residual standard error: 0.001216 on 1 degrees of freedom\n",
              "Multiple R-squared:  0.9999,\tAdjusted R-squared:  0.9997 \n",
              "F-statistic:  5557 on 2 and 1 DF,  p-value: 0.009485\n"
            ]
          },
          "metadata": {}
        }
      ],
      "source": [
        "\n",
        "# Example dataset\n",
        "demand <- data.frame(\n",
        "  Week = 1:4,\n",
        "  Price = c(10, 11, 9, 10),\n",
        "  Quantity = c(500, 460, 550, 490),\n",
        "  Advertising = c(200, 200, 200, 250)\n",
        ")\n",
        "\n",
        "# Fit log-log regression\n",
        "model <- lm(log(Quantity) ~ log(Price) + Advertising, data = demand)\n",
        "summary(model)\n"
      ]
    },
    {
      "cell_type": "markdown",
      "id": "d4a5ecd3",
      "metadata": {
        "id": "d4a5ecd3"
      },
      "source": [
        "## Example 2: Macroeconomics – GDP Growth using ARIMA/S-ARIMA\n",
        "\n",
        "**Concept:** Forecast GDP growth using time series models.\n",
        "\n",
        "We use ARIMA (AutoRegressive Integrated Moving Average)."
      ]
    },
    {
      "cell_type": "code",
      "execution_count": 4,
      "id": "e8b1b85b",
      "metadata": {
        "colab": {
          "base_uri": "https://localhost:8080/",
          "height": 669
        },
        "id": "e8b1b85b",
        "outputId": "09f612ac-ace3-41e5-dd81-f329acd87811"
      },
      "outputs": [
        {
          "output_type": "display_data",
          "data": {
            "text/plain": [
              "         Point Forecast    Lo 80    Hi 80    Lo 95    Hi 95\n",
              "Jan 1961       445.6349 430.8903 460.3795 423.0851 468.1847\n",
              "Feb 1961       420.3950 403.0907 437.6993 393.9304 446.8596\n",
              "Mar 1961       449.1983 429.7726 468.6241 419.4892 478.9074\n",
              "Apr 1961       491.8399 471.0270 512.6529 460.0092 523.6707\n",
              "May 1961       503.3945 481.5559 525.2330 469.9953 536.7937\n",
              "Jun 1961       566.8625 544.2637 589.4612 532.3007 601.4242\n",
              "Jul 1961       654.2602 631.0820 677.4384 618.8122 689.7081\n",
              "Aug 1961       638.5975 614.9704 662.2246 602.4630 674.7320\n",
              "Sep 1961       540.8837 516.9028 564.8647 504.2081 577.5594\n",
              "Oct 1961       494.1266 469.8624 518.3909 457.0177 531.2356\n",
              "Nov 1961       423.3327 398.8381 447.8273 385.8715 460.7940\n",
              "Dec 1961       465.5076 440.8229 490.1923 427.7556 503.2596"
            ]
          },
          "metadata": {}
        },
        {
          "output_type": "display_data",
          "data": {
            "text/plain": [
              "Plot with title “Forecasts from ARIMA(2,1,1)(0,1,0)[12]”"
            ],
            "image/png": "[encoded data removed]"
          },
          "metadata": {
            "image/png": {
              "width": 420,
              "height": 420
            }
          }
        }
      ],
      "source": [
        "\n",
        "# Example with AirPassengers as placeholder for GDP series\n",
        "library(forecast)\n",
        "data <- AirPassengers\n",
        "fit <- auto.arima(data)\n",
        "forecast(fit, h=12)\n",
        "plot(forecast(fit, h=12))\n"
      ]
    },
    {
      "cell_type": "markdown",
      "id": "a6ec6265",
      "metadata": {
        "id": "a6ec6265"
      },
      "source": [
        "## Example 3: Finance – Pricing Options with Black-Scholes\n",
        "\n",
        "**Formula (Call Option):**\n",
        "\n",
        "$$ C = S_0 N(d_1) - K e^{-rT} N(d_2) $$"
      ]
    },
    {
      "cell_type": "code",
      "execution_count": 5,
      "id": "2de129e3",
      "metadata": {
        "colab": {
          "base_uri": "https://localhost:8080/",
          "height": 34
        },
        "id": "2de129e3",
        "outputId": "200877af-f417-43e5-fd81-fc71950259d9"
      },
      "outputs": [
        {
          "output_type": "display_data",
          "data": {
            "text/html": [
              "10.4505835721856"
            ],
            "text/markdown": "10.4505835721856",
            "text/latex": "10.4505835721856",
            "text/plain": [
              "[1] 10.45058"
            ]
          },
          "metadata": {}
        }
      ],
      "source": [
        "\n",
        "# Black-Scholes formula for a European call option\n",
        "black_scholes_call <- function(S, K, r, T, sigma) {\n",
        "  d1 <- (log(S/K) + (r + sigma^2/2)*T) / (sigma*sqrt(T))\n",
        "  d2 <- d1 - sigma*sqrt(T)\n",
        "  C <- S*pnorm(d1) - K*exp(-r*T)*pnorm(d2)\n",
        "  return(C)\n",
        "}\n",
        "\n",
        "black_scholes_call(S=100, K=100, r=0.05, T=1, sigma=0.2)\n"
      ]
    },
    {
      "cell_type": "markdown",
      "id": "0e65c91a",
      "metadata": {
        "id": "0e65c91a"
      },
      "source": [
        "## Example 4: Finance (Insurance) – Ruin-Theory Simulation\n",
        "\n",
        "**Concept:** Probability an insurer's reserve goes below zero."
      ]
    },
    {
      "cell_type": "code",
      "execution_count": 6,
      "id": "55bf9d68",
      "metadata": {
        "colab": {
          "base_uri": "https://localhost:8080/",
          "height": 34
        },
        "id": "55bf9d68",
        "outputId": "e65c2db6-2298-47f8-fdda-96a9d04ba278"
      },
      "outputs": [
        {
          "output_type": "display_data",
          "data": {
            "text/html": [
              "TRUE"
            ],
            "text/markdown": "TRUE",
            "text/latex": "TRUE",
            "text/plain": [
              "[1] TRUE"
            ]
          },
          "metadata": {}
        }
      ],
      "source": [
        "\n",
        "set.seed(123)\n",
        "simulate_ruin <- function(initial_capital=100, premium=10, claims=rgamma(100, 2, 0.1)) {\n",
        "  capital <- initial_capital\n",
        "  ruin <- FALSE\n",
        "  for (i in seq_along(claims)) {\n",
        "    capital <- capital + premium - claims[i]\n",
        "    if (capital <= 0) {\n",
        "      ruin <- TRUE\n",
        "      break\n",
        "    }\n",
        "  }\n",
        "  return(ruin)\n",
        "}\n",
        "\n",
        "simulate_ruin()\n"
      ]
    },
    {
      "cell_type": "markdown",
      "id": "4acac7ba",
      "metadata": {
        "id": "4acac7ba"
      },
      "source": [
        "## Example 5: Digital Marketing – A/B Testing\n",
        "\n",
        "**Concept:** Compare conversion rates between two groups (A vs. B)."
      ]
    },
    {
      "cell_type": "code",
      "execution_count": 7,
      "id": "d158521d",
      "metadata": {
        "colab": {
          "base_uri": "https://localhost:8080/",
          "height": 213
        },
        "id": "d158521d",
        "outputId": "c850fdd6-9cd3-44da-f854-77baf2d08cdb"
      },
      "outputs": [
        {
          "output_type": "display_data",
          "data": {
            "text/plain": [
              "\n",
              "\t2-sample test for equality of proportions without continuity correction\n",
              "\n",
              "data:  c(sum(A), sum(B)) out of c(length(A), length(B))\n",
              "X-squared = 0, df = 1, p-value = 1\n",
              "alternative hypothesis: two.sided\n",
              "95 percent confidence interval:\n",
              " -0.4382613  0.4382613\n",
              "sample estimates:\n",
              "prop 1 prop 2 \n",
              "   0.5    0.5 \n"
            ]
          },
          "metadata": {}
        }
      ],
      "source": [
        "\n",
        "# Example: conversion rates\n",
        "A <- c(1,0,1,0,1,0,1,0,0,1)  # 1 = converted\n",
        "B <- c(0,1,0,0,1,1,0,0,1,1)\n",
        "\n",
        "prop.test(x = c(sum(A), sum(B)), n = c(length(A), length(B)))\n"
      ]
    },
    {
      "cell_type": "markdown",
      "id": "dac34aa4",
      "metadata": {
        "id": "dac34aa4"
      },
      "source": [
        "## Example 6: IT – Code Quality Analysis\n",
        "\n",
        "**Concept:** Analyze code complexity and errors (placeholder with text analysis)."
      ]
    },
    {
      "cell_type": "code",
      "execution_count": 8,
      "id": "ebb0984d",
      "metadata": {
        "colab": {
          "base_uri": "https://localhost:8080/",
          "height": 52
        },
        "id": "ebb0984d",
        "outputId": "eb11c23c-8b01-416b-c354-111cc80944fb"
      },
      "outputs": [
        {
          "output_type": "display_data",
          "data": {
            "text/html": [
              "<style>\n",
              ".list-inline {list-style: none; margin:0; padding: 0}\n",
              ".list-inline>li {display: inline-block}\n",
              ".list-inline>li:not(:last-child)::after {content: \"\\00b7\"; padding: 0 .5ex}\n",
              "</style>\n",
              "<ol class=list-inline><li>1</li><li>0</li></ol>\n"
            ],
            "text/markdown": "1. 1\n2. 0\n\n\n",
            "text/latex": "\\begin{enumerate*}\n\\item 1\n\\item 0\n\\end{enumerate*}\n",
            "text/plain": [
              "[1] 1 0"
            ]
          },
          "metadata": {}
        },
        {
          "output_type": "display_data",
          "data": {
            "text/html": [
              "<style>\n",
              ".list-inline {list-style: none; margin:0; padding: 0}\n",
              ".list-inline>li {display: inline-block}\n",
              ".list-inline>li:not(:last-child)::after {content: \"\\00b7\"; padding: 0 .5ex}\n",
              "</style>\n",
              "<ol class=list-inline><li>0</li><li>1</li></ol>\n"
            ],
            "text/markdown": "1. 0\n2. 1\n\n\n",
            "text/latex": "\\begin{enumerate*}\n\\item 0\n\\item 1\n\\end{enumerate*}\n",
            "text/plain": [
              "[1] 0 1"
            ]
          },
          "metadata": {}
        }
      ],
      "source": [
        "\n",
        "library(stringr)\n",
        "code_samples <- c(\"for(i in 1:10){print(i)}\", \"while(TRUE){ }\")\n",
        "str_count(code_samples, \"for\")\n",
        "str_count(code_samples, \"while\")\n"
      ]
    },
    {
      "cell_type": "markdown",
      "id": "5c6fb1f1",
      "metadata": {
        "id": "5c6fb1f1"
      },
      "source": [
        "## Example 7: AI/ML – Image Classification with CNNs\n",
        "\n",
        "**Concept:** Classify images using Convolutional Neural Networks.\n",
        "\n",
        "In R, we can use the `keras` package."
      ]
    },
    {
      "cell_type": "code",
      "execution_count": 6,
      "id": "83f66dbd",
      "metadata": {
        "id": "83f66dbd"
      },
      "outputs": [],
      "source": [
        "\n",
        "# Placeholder code - requires keras/tensorflow setup\n",
        "# library(keras)\n",
        "# model <- keras_model_sequential() %>%\n",
        "#   layer_conv_2d(filters = 32, kernel_size = c(3,3), activation = 'relu', input_shape = c(28,28,1)) %>%\n",
        "#   layer_max_pooling_2d(pool_size = c(2,2)) %>%\n",
        "#   layer_flatten() %>%\n",
        "#   layer_dense(units = 128, activation = 'relu') %>%\n",
        "#   layer_dense(units = 10, activation = 'softmax')\n"
      ]
    }
  ],
  "metadata": {
    "colab": {
      "provenance": []
    },
    "language_info": {
      "name": "R"
    },
    "kernelspec": {
      "name": "ir",
      "display_name": "R"
    }
  },
  "nbformat": 4,
  "nbformat_minor": 5
}