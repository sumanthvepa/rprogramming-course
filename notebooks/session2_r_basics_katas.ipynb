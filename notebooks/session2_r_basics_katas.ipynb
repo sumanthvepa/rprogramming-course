{
  "nbformat": 4,
  "nbformat_minor": 0,
  "metadata": {
    "colab": {
      "provenance": []
    },
    "kernelspec": {
      "name": "ir",
      "display_name": "R"
    },
    "language_info": {
      "name": "R"
    }
  },
  "cells": [
    {
      "cell_type": "markdown",
      "source": [
        "# Exploring the Basics of R Programming\n",
        "\n",
        "This chapter explores the basics of R programming using a series of examples of increasing complexity."
      ],
      "metadata": {
        "id": "X39LuinzMWTx"
      }
    },
    {
      "cell_type": "markdown",
      "source": [
        "## Hello, World!\n",
        "\n",
        "This is the canonical first program in any language. It's fairly straightforward."
      ],
      "metadata": {
        "id": "VYAbnR1cKZd5"
      }
    },
    {
      "cell_type": "code",
      "source": [
        "print(\"Hello, World!\")"
      ],
      "metadata": {
        "colab": {
          "base_uri": "https://localhost:8080/"
        },
        "id": "MgbrNRBAKh1C",
        "outputId": "0ba4b84a-a790-4c6e-8cc2-fecbe4a23578"
      },
      "execution_count": 211,
      "outputs": [
        {
          "output_type": "stream",
          "name": "stdout",
          "text": [
            "[1] \"Hello, World!\"\n"
          ]
        }
      ]
    },
    {
      "cell_type": "markdown",
      "source": [
        "If you just want the text and not other stuff like the '\\[1\\]' and the quotes around the phrase. Use the <code>cat()</code> function."
      ],
      "metadata": {
        "id": "mqfrG38qK8DY"
      }
    },
    {
      "cell_type": "code",
      "source": [
        "cat(\"Hello, World!\")"
      ],
      "metadata": {
        "colab": {
          "base_uri": "https://localhost:8080/"
        },
        "id": "5eVZFglkLPcd",
        "outputId": "bf6036cc-3fed-494d-ffb1-384ea6314257"
      },
      "execution_count": 212,
      "outputs": [
        {
          "output_type": "stream",
          "name": "stdout",
          "text": [
            "Hello, World!"
          ]
        }
      ]
    },
    {
      "cell_type": "markdown",
      "source": [
        "Use <code>print()</code> when debugging or displaying values in scripts (it shows indexing, structure, etc.), and <code>cat()</code> when you want plain output.\n",
        "\n",
        "The '\\[1\\]' that you see printed before the output is the index of the first item on the line the the data structure. For \"Hello, World\" it is not useful, but it can be very useful when printing more complex data strucutres like vectors."
      ],
      "metadata": {
        "id": "oJfUlIweLZgD"
      }
    },
    {
      "cell_type": "code",
      "source": [
        "# Assign numbers from 0 to 50 (inclusive) to y.\n",
        "y <- 0:50\n",
        "print(y) # print the value"
      ],
      "metadata": {
        "colab": {
          "base_uri": "https://localhost:8080/"
        },
        "id": "MGtmqquRL1SW",
        "outputId": "731caf14-11ab-4b1e-f545-23fa81322330"
      },
      "execution_count": 213,
      "outputs": [
        {
          "output_type": "stream",
          "name": "stdout",
          "text": [
            " [1]  0  1  2  3  4  5  6  7  8  9 10 11 12 13 14 15 16 17 18 19 20 21 22 23 24\n",
            "[26] 25 26 27 28 29 30 31 32 33 34 35 36 37 38 39 40 41 42 43 44 45 46 47 48 49\n",
            "[51] 50\n"
          ]
        }
      ]
    },
    {
      "cell_type": "markdown",
      "source": [
        "In the output above the numbers in square brackets indicate the index of the first number that follows them on the line. i.e '\\[1\\]' indicates that the '0' that follows it is the element at index 1 in the vector y.  i.e. <code>y[1] == 0</code>. Similarly on the next two lines, the index of the first element printed on each line is 26 and 51 respectively. i.e. <code>y[26] == 25</code> and <code>y[51] == 50</code>. You can see that by inspecting the values of the vector y at those indices below."
      ],
      "metadata": {
        "id": "qmn2Hm2-MtnU"
      }
    },
    {
      "cell_type": "code",
      "source": [
        "y[1]\n",
        "y[26]\n",
        "y[51]"
      ],
      "metadata": {
        "colab": {
          "base_uri": "https://localhost:8080/",
          "height": 69
        },
        "id": "zIO0ImxkP-8r",
        "outputId": "e69969d5-cb8c-4d2d-f70b-351230b14e52"
      },
      "execution_count": 214,
      "outputs": [
        {
          "output_type": "display_data",
          "data": {
            "text/html": [
              "0"
            ],
            "text/markdown": "0",
            "text/latex": "0",
            "text/plain": [
              "[1] 0"
            ]
          },
          "metadata": {}
        },
        {
          "output_type": "display_data",
          "data": {
            "text/html": [
              "25"
            ],
            "text/markdown": "25",
            "text/latex": "25",
            "text/plain": [
              "[1] 25"
            ]
          },
          "metadata": {}
        },
        {
          "output_type": "display_data",
          "data": {
            "text/html": [
              "50"
            ],
            "text/markdown": "50",
            "text/latex": "50",
            "text/plain": [
              "[1] 50"
            ]
          },
          "metadata": {}
        }
      ]
    },
    {
      "cell_type": "markdown",
      "source": [
        "Why does <code>print()</code> do this? Because, this makes it easy for a reader of the output to figure out how many element were printed in each line."
      ],
      "metadata": {
        "id": "GUcvBLZ0QQGl"
      }
    },
    {
      "cell_type": "markdown",
      "source": [
        "## Comments\n",
        "Note the text following the # on the first line in the code snippet above. Also note the text following the print(y) function call. These are comments. In R, a comment start with the '<code>#</code>' (hash) sign and end with end of the line. Once cool trick that programmers often use, is to 'comment out' lines of code they don't want to execute, but don't want to delete either."
      ],
      "metadata": {
        "id": "5Ygt9qm2rLY5"
      }
    },
    {
      "cell_type": "code",
      "source": [
        "# The follwing lines are commented out. Nothing is run.\n",
        "# v <- 10\n",
        "# print(v)"
      ],
      "metadata": {
        "id": "QiZ0P2QCsCKJ"
      },
      "execution_count": 215,
      "outputs": []
    },
    {
      "cell_type": "markdown",
      "source": [
        "## The Assignment Operator\n",
        "Notice that we've also introduced some new notation when creating the vector y.  The first symbol <code><-</code> is the assignment symbol. It assigns the value on the right to a variable on the left.\n",
        "\n",
        "You can also use the <code>'='</code> sign which is very common in other programming languages. But if you come from a math background you will find the <code><-</code> very intuitive."
      ],
      "metadata": {
        "id": "05YlRyBrSVeB"
      }
    },
    {
      "cell_type": "code",
      "source": [
        "y = 1:10\n",
        "y"
      ],
      "metadata": {
        "colab": {
          "base_uri": "https://localhost:8080/",
          "height": 34
        },
        "id": "eqgIDZrcStNR",
        "outputId": "6f0bef5a-d673-44b6-e8cb-90f285d536cc"
      },
      "execution_count": 216,
      "outputs": [
        {
          "output_type": "display_data",
          "data": {
            "text/html": [
              "<style>\n",
              ".list-inline {list-style: none; margin:0; padding: 0}\n",
              ".list-inline>li {display: inline-block}\n",
              ".list-inline>li:not(:last-child)::after {content: \"\\00b7\"; padding: 0 .5ex}\n",
              "</style>\n",
              "<ol class=list-inline><li>1</li><li>2</li><li>3</li><li>4</li><li>5</li><li>6</li><li>7</li><li>8</li><li>9</li><li>10</li></ol>\n"
            ],
            "text/markdown": "1. 1\n2. 2\n3. 3\n4. 4\n5. 5\n6. 6\n7. 7\n8. 8\n9. 9\n10. 10\n\n\n",
            "text/latex": "\\begin{enumerate*}\n\\item 1\n\\item 2\n\\item 3\n\\item 4\n\\item 5\n\\item 6\n\\item 7\n\\item 8\n\\item 9\n\\item 10\n\\end{enumerate*}\n",
            "text/plain": [
              " [1]  1  2  3  4  5  6  7  8  9 10"
            ]
          },
          "metadata": {}
        }
      ]
    },
    {
      "cell_type": "markdown",
      "source": [
        "You can also assign values in the other direction, left to right using <code>-></code>. This is not common though. And not recommended."
      ],
      "metadata": {
        "id": "Slqy8RXVXZqj"
      }
    },
    {
      "cell_type": "code",
      "source": [
        "1:10 -> y\n",
        "y"
      ],
      "metadata": {
        "colab": {
          "base_uri": "https://localhost:8080/",
          "height": 34
        },
        "id": "wLXFFxUeXtmO",
        "outputId": "8da9adf1-39c9-4c5e-bd15-7c787c07346a"
      },
      "execution_count": 217,
      "outputs": [
        {
          "output_type": "display_data",
          "data": {
            "text/html": [
              "<style>\n",
              ".list-inline {list-style: none; margin:0; padding: 0}\n",
              ".list-inline>li {display: inline-block}\n",
              ".list-inline>li:not(:last-child)::after {content: \"\\00b7\"; padding: 0 .5ex}\n",
              "</style>\n",
              "<ol class=list-inline><li>1</li><li>2</li><li>3</li><li>4</li><li>5</li><li>6</li><li>7</li><li>8</li><li>9</li><li>10</li></ol>\n"
            ],
            "text/markdown": "1. 1\n2. 2\n3. 3\n4. 4\n5. 5\n6. 6\n7. 7\n8. 8\n9. 9\n10. 10\n\n\n",
            "text/latex": "\\begin{enumerate*}\n\\item 1\n\\item 2\n\\item 3\n\\item 4\n\\item 5\n\\item 6\n\\item 7\n\\item 8\n\\item 9\n\\item 10\n\\end{enumerate*}\n",
            "text/plain": [
              " [1]  1  2  3  4  5  6  7  8  9 10"
            ]
          },
          "metadata": {}
        }
      ]
    },
    {
      "cell_type": "markdown",
      "source": [
        "There are subtle footguns that arise when you use either '<code>=</code>' or '<code>-></code>' in R.  The best policy is to stick to the standard '<codE><-</code>' assignment operator."
      ],
      "metadata": {
        "id": "FyR_GDgeXzEg"
      }
    },
    {
      "cell_type": "markdown",
      "source": [
        "## Vectors\n",
        "The other new notation that we encounter when we create vector y, was the notation <code>1:50</code>. This creates a vector of numbers from 1 to 50 inclusive. i.e. all numbers from 1 to 50 including both 1 and 50 (a total of 51 numbers.)\n",
        "\n",
        "The '<code>:</code>' operator can be used to create an inverse sequence from 50 down to 1 for example."
      ],
      "metadata": {
        "id": "r5rXc-GxYQf5"
      }
    },
    {
      "cell_type": "code",
      "source": [
        "y <- 50:1\n",
        "print(y)"
      ],
      "metadata": {
        "colab": {
          "base_uri": "https://localhost:8080/"
        },
        "id": "lRCvkNslhaXR",
        "outputId": "1e74fbbc-d228-4662-867f-45f1d4ed596f"
      },
      "execution_count": 218,
      "outputs": [
        {
          "output_type": "stream",
          "name": "stdout",
          "text": [
            " [1] 50 49 48 47 46 45 44 43 42 41 40 39 38 37 36 35 34 33 32 31 30 29 28 27 26\n",
            "[26] 25 24 23 22 21 20 19 18 17 16 15 14 13 12 11 10  9  8  7  6  5  4  3  2  1\n"
          ]
        }
      ]
    },
    {
      "cell_type": "markdown",
      "source": [
        "Notice that first number in the vector is 50 and it goes down from there."
      ],
      "metadata": {
        "id": "vuFnFPpxhnpv"
      }
    },
    {
      "cell_type": "markdown",
      "source": [
        "### Note on Immediate Mode Evaluation\n",
        "\n",
        "You will notice that at times the code above assigns a value to a variable like y. And then, instead of calling print, the variable name is just placed on its own in a separate line. This is a simple way to force the R interpreter to display the value of the variable.\n",
        "\n",
        "It works in situations where you are doing something iteractive and want to just quickly see the value of variable or expression. But for more structured situations, like self contained programs that run on thair own its not recommended.\n",
        "\n",
        "Here's an example. Without the <code>y</code>, the assignment operation produces no output."
      ],
      "metadata": {
        "id": "aD_UNDvnh3Br"
      }
    },
    {
      "cell_type": "code",
      "source": [
        "y <- c(1, 2, 3)"
      ],
      "metadata": {
        "id": "vE3PyvGOiSGK"
      },
      "execution_count": 219,
      "outputs": []
    },
    {
      "cell_type": "markdown",
      "source": [
        "Note that there is no output when you run the code. But putting the variable by itself on a line triggers an evaluation for the variable to display its value."
      ],
      "metadata": {
        "id": "xHhtreW-lNlD"
      }
    },
    {
      "cell_type": "code",
      "source": [
        "y"
      ],
      "metadata": {
        "colab": {
          "base_uri": "https://localhost:8080/",
          "height": 34
        },
        "id": "J-ILz8w3lhwB",
        "outputId": "5a6eecd3-09d5-4eb8-ded7-8bc1049978c8"
      },
      "execution_count": 220,
      "outputs": [
        {
          "output_type": "display_data",
          "data": {
            "text/html": [
              "<style>\n",
              ".list-inline {list-style: none; margin:0; padding: 0}\n",
              ".list-inline>li {display: inline-block}\n",
              ".list-inline>li:not(:last-child)::after {content: \"\\00b7\"; padding: 0 .5ex}\n",
              "</style>\n",
              "<ol class=list-inline><li>1</li><li>2</li><li>3</li></ol>\n"
            ],
            "text/markdown": "1. 1\n2. 2\n3. 3\n\n\n",
            "text/latex": "\\begin{enumerate*}\n\\item 1\n\\item 2\n\\item 3\n\\end{enumerate*}\n",
            "text/plain": [
              "[1] 1 2 3"
            ]
          },
          "metadata": {}
        }
      ]
    },
    {
      "cell_type": "markdown",
      "source": [
        "Y in this case is treated as an expression. Any expression, will be evaluated. For example:"
      ],
      "metadata": {
        "id": "1jH8XJ2klo1M"
      }
    },
    {
      "cell_type": "code",
      "source": [
        "7 + 5/2"
      ],
      "metadata": {
        "colab": {
          "base_uri": "https://localhost:8080/",
          "height": 34
        },
        "id": "BUHX2y5Fl5Iq",
        "outputId": "36341f3b-1970-48ed-d5b6-3d80bda52cf8"
      },
      "execution_count": 221,
      "outputs": [
        {
          "output_type": "display_data",
          "data": {
            "text/html": [
              "9.5"
            ],
            "text/markdown": "9.5",
            "text/latex": "9.5",
            "text/plain": [
              "[1] 9.5"
            ]
          },
          "metadata": {}
        }
      ]
    },
    {
      "cell_type": "markdown",
      "source": [
        "In general, only rely on immediate mode evaluation when working interactively with code. For standalone, scripts use <code>print()</code> or <code>cat()</code> to display the values of variables."
      ],
      "metadata": {
        "id": "EaiCbCKOn0aV"
      }
    },
    {
      "cell_type": "markdown",
      "source": [
        "### The c() function\n",
        "\n",
        "Getting back to vectors there are other ways to create a vector. The canonical way to do so is the <code>c</code> function."
      ],
      "metadata": {
        "id": "tmm9EMPdmEY-"
      }
    },
    {
      "cell_type": "code",
      "source": [
        "u <- c(1, 2, 3)\n",
        "print(u)"
      ],
      "metadata": {
        "colab": {
          "base_uri": "https://localhost:8080/"
        },
        "id": "dbDWgp03nSE9",
        "outputId": "aac0ab2e-222a-4180-f2fa-d9c23e017e1a"
      },
      "execution_count": 222,
      "outputs": [
        {
          "output_type": "stream",
          "name": "stdout",
          "text": [
            "[1] 1 2 3\n"
          ]
        }
      ]
    },
    {
      "cell_type": "markdown",
      "source": [
        "In R, the c() function is one of the most fundamental functions.\n",
        "\n",
        "### What it does\n",
        "\n",
        "It combines values into a vector (the most basic data structure in R). The name c comes from \"combine\" (or sometimes described as \"concatenate\"). It reflects the function’s purpose: to combine multiple values into a single vector. This naming convention goes back to the S language (R’s predecessor), where <code>c()</code> was also used for this purpose."
      ],
      "metadata": {
        "id": "XBYMMw76qk5m"
      }
    },
    {
      "cell_type": "markdown",
      "source": [
        "The c function can concatenate different types of values, numbers, strings, booleans etc."
      ],
      "metadata": {
        "id": "kTM5rgGorHWE"
      }
    },
    {
      "cell_type": "code",
      "source": [
        "bv <- c(TRUE, FALSE, FALSE, FALSE, TRUE) # bv is a vector of boolean values.\n",
        "print(bv)\n",
        "\n",
        "# This is a vector of strings\n",
        "sv <- c(\"New Delhi\", \"Islamabad\", \"Dhaka\", \"Khatmandu\", \"Bejing\",\n",
        "        \"Kabul\", \"Colombo\", \"Thimpu\", \"Malé\")\n",
        "print(sv)\n",
        "\n",
        "# Vector of floating point numbers\n",
        "fv <- c(1.75, 3.2, -5.6, 0.33)\n",
        "print(fv)"
      ],
      "metadata": {
        "colab": {
          "base_uri": "https://localhost:8080/"
        },
        "id": "GNnBZM4GrUwG",
        "outputId": "3f511baf-8409-4421-dedf-f4f7df389d3a"
      },
      "execution_count": 223,
      "outputs": [
        {
          "output_type": "stream",
          "name": "stdout",
          "text": [
            "[1]  TRUE FALSE FALSE FALSE  TRUE\n",
            "[1] \"New Delhi\" \"Islamabad\" \"Dhaka\"     \"Khatmandu\" \"Bejing\"    \"Kabul\"    \n",
            "[7] \"Colombo\"   \"Thimpu\"    \"Malé\"     \n",
            "[1]  1.75  3.20 -5.60  0.33\n"
          ]
        }
      ]
    },
    {
      "cell_type": "markdown",
      "source": [
        "The <code>c()</code> function, will only create vectors where all the elements are of the same 'type'. If you give it a mix of types, it will convert all of them to a type that is common. This might occasionally be surprising."
      ],
      "metadata": {
        "id": "ur-vIM1zsrpE"
      }
    },
    {
      "cell_type": "code",
      "source": [
        "mv <- c(1, 2.5, TRUE, \"Hello\")\n",
        "print(mv)"
      ],
      "metadata": {
        "colab": {
          "base_uri": "https://localhost:8080/"
        },
        "id": "Q9iQdvMPtKsh",
        "outputId": "f67d371c-543a-4bdd-dd12-5b1d0345167b"
      },
      "execution_count": 224,
      "outputs": [
        {
          "output_type": "stream",
          "name": "stdout",
          "text": [
            "[1] \"1\"     \"2.5\"   \"TRUE\"  \"Hello\"\n"
          ]
        }
      ]
    },
    {
      "cell_type": "markdown",
      "source": [
        "Notice that when printed, mv is just a vector of strings. You know that becuase all the values are enclosed in double-quotes (which is used to denote a string in R.)"
      ],
      "metadata": {
        "id": "2gH7l2zXtSs4"
      }
    },
    {
      "cell_type": "code",
      "source": [
        "fv <- c(1, 2.5, -3/2)\n",
        "print(fv)"
      ],
      "metadata": {
        "colab": {
          "base_uri": "https://localhost:8080/"
        },
        "id": "TNHGhbIctiB9",
        "outputId": "30ce6b4e-8436-4de6-d9d5-a1cbd58baa95"
      },
      "execution_count": 225,
      "outputs": [
        {
          "output_type": "stream",
          "name": "stdout",
          "text": [
            "[1]  1.0  2.5 -1.5\n"
          ]
        }
      ]
    },
    {
      "cell_type": "markdown",
      "source": [
        "In this case fv is a vector of floating point numbers, despite the first element being an integer. This normally fine. But may have unforseen performance implications when you manipulate the vector. Integer arithmetic is much faster than floating point arithmetic. For large vectors (+100 million numbers on computers of 2025) this can be significant degradation."
      ],
      "metadata": {
        "id": "-JusYNjvtrWs"
      }
    },
    {
      "cell_type": "markdown",
      "source": [
        "### The seq function\n",
        "\n",
        "Another way to create lists is to use the <code>seq()</code> function.\n",
        "This is the basic syntax:\n",
        "<code>seq(from, to, by, length.out, along.with)</code>\n",
        "\n",
        "* <code>from</code> → starting value of the sequence.\n",
        "* <code>to</code> → ending value of the sequence.\n",
        "* <code>by</code> → increment (or decrement if negative).\n",
        "* <code>length.out</code> → desired length of the sequence (R will adjust the step size automatically).\n",
        "* <code>along.with</code> → makes a sequence of the same length as another object."
      ],
      "metadata": {
        "id": "QJne5k9wuRm1"
      }
    },
    {
      "cell_type": "code",
      "source": [
        "# Unlike 1:10, which always increments or decrements in steps of 1,\n",
        "# seq allows you to change the step size\n",
        "v <- seq(from=1, to=10, by=2)\n",
        "print(v)\n",
        "v <- try(seq(from=10, to=1, by=2)) # Note the error. Must use a negative increment\n",
        "print(v)"
      ],
      "metadata": {
        "colab": {
          "base_uri": "https://localhost:8080/"
        },
        "id": "0kmmCFKVBEtq",
        "outputId": "1400947a-6058-433a-d477-bf998657d861"
      },
      "execution_count": 226,
      "outputs": [
        {
          "output_type": "stream",
          "name": "stdout",
          "text": [
            "[1] 1 3 5 7 9\n",
            "Error in seq.default(from = 10, to = 1, by = 2) : \n",
            "  wrong sign in 'by' argument\n",
            "[1] \"Error in seq.default(from = 10, to = 1, by = 2) : \\n  wrong sign in 'by' argument\\n\"\n",
            "attr(,\"class\")\n",
            "[1] \"try-error\"\n",
            "attr(,\"condition\")\n",
            "<simpleError in seq.default(from = 10, to = 1, by = 2): wrong sign in 'by' argument>\n"
          ]
        }
      ]
    },
    {
      "cell_type": "markdown",
      "source": [
        "Note the error. When the R interpreter encounters an error, it will stop exectuing the program at that point and print an error. (Unless the error is\n",
        "handled by the program itself.) See try/catch described later.\n",
        "\n",
        "When the code is included in a Jupyter notebook, any unhandled errors like this\n",
        "will stop execution of all code further down the page. To avoid this we wrap the erronous call to seq() in a try() function. This is advanced stuff. Don't worry about it for now."
      ],
      "metadata": {
        "id": "JwOQ0_idC8SQ"
      }
    },
    {
      "cell_type": "code",
      "source": [
        "# Set by to -2. Now everything works as expected.\n",
        "v <- seq(from=10, to=1, by=-2 )\n",
        "print(v)"
      ],
      "metadata": {
        "colab": {
          "base_uri": "https://localhost:8080/"
        },
        "id": "AeEv1gQQC0uf",
        "outputId": "6a96a74c-81b3-46b7-c095-c70dcc345216"
      },
      "execution_count": 227,
      "outputs": [
        {
          "output_type": "stream",
          "name": "stdout",
          "text": [
            "[1] 10  8  6  4  2\n"
          ]
        }
      ]
    },
    {
      "cell_type": "markdown",
      "source": [
        "You can do some interesting things with <code>seq()</code>."
      ],
      "metadata": {
        "id": "OX0pIWfLDhHn"
      }
    },
    {
      "cell_type": "code",
      "source": [
        "v <- seq(from=0, to=1, length.out=5) # 5 equally spaced floating point numbers between 0 and 1.\n",
        "print(v)\n",
        "x <- c(10, 20, 30, 40)\n",
        "v <- seq(along.with = x) # Generates numeric labels (i.e indices) for values in x\n",
        "print(x)\n",
        "print(v)\n"
      ],
      "metadata": {
        "colab": {
          "base_uri": "https://localhost:8080/"
        },
        "id": "mxEOiIPUD6Je",
        "outputId": "d61c0418-6b8c-4eb3-b9e7-3e41db4da9e1"
      },
      "execution_count": 228,
      "outputs": [
        {
          "output_type": "stream",
          "name": "stdout",
          "text": [
            "[1] 0.00 0.25 0.50 0.75 1.00\n",
            "[1] 10 20 30 40\n",
            "[1] 1 2 3 4\n"
          ]
        }
      ]
    },
    {
      "cell_type": "markdown",
      "source": [
        "Note that there are two way we can call a function like <code>seq()</code>. We can use argument labels like <code>from=0</code> or call the function without any lables. In the latter case the values are assigned to the function in the order in which they are declared in the functions signature. In general, you should prefer using argument labels.\n",
        "\n",
        "Also note that you SHOULD NOT use the assignment operator <code><-</code> when passing values to argument labels. Subtle errors arise. (See the comment.)"
      ],
      "metadata": {
        "id": "MMc4mAZmKGYB"
      }
    },
    {
      "cell_type": "markdown",
      "source": [
        "You can get the length of a vector using the <code>length()</code> function."
      ],
      "metadata": {
        "id": "W-ns9nyQRlNL"
      }
    },
    {
      "cell_type": "code",
      "source": [
        "v <- 1:50\n",
        "lv <- length(v)\n",
        "print(lv)"
      ],
      "metadata": {
        "colab": {
          "base_uri": "https://localhost:8080/"
        },
        "id": "Bz1_AwVGRo-b",
        "outputId": "794bfdd6-b978-4c83-c23d-606fb8e92054"
      },
      "execution_count": 229,
      "outputs": [
        {
          "output_type": "stream",
          "name": "stdout",
          "text": [
            "[1] 50\n"
          ]
        }
      ]
    },
    {
      "cell_type": "markdown",
      "source": [
        "### The subscript operator\n",
        "You can also manipulate individual elements in a vector using the subscript operator <code>[]</code>. You can assign values to a given position in a vector using the subscript operator as well."
      ],
      "metadata": {
        "id": "ozzVFT9LSTq_"
      }
    },
    {
      "cell_type": "code",
      "source": [
        "third_value = v[3]\n",
        "print(third_value)\n",
        "v[3] <- 21\n",
        "print(v) # Notice the third element in line [1] of print's output is now 21."
      ],
      "metadata": {
        "colab": {
          "base_uri": "https://localhost:8080/"
        },
        "id": "iMr842DsSeKH",
        "outputId": "6da52dee-7a4b-4eaf-dc8c-82510b408365"
      },
      "execution_count": 230,
      "outputs": [
        {
          "output_type": "stream",
          "name": "stdout",
          "text": [
            "[1] 3\n",
            " [1]  1  2 21  4  5  6  7  8  9 10 11 12 13 14 15 16 17 18 19 20 21 22 23 24 25\n",
            "[26] 26 27 28 29 30 31 32 33 34 35 36 37 38 39 40 41 42 43 44 45 46 47 48 49 50\n"
          ]
        }
      ]
    },
    {
      "cell_type": "markdown",
      "source": [
        "### 1-based indexing\n",
        "Note that R uses 1-based indexing. i.e The first element in a collection is at index 1. This makes intuitive sense to most non-programmers, that R was targeted at. But you need to remember this, particularly if you are also going to be programming in other languages like Python, C, Java, etc., all of which use 0-based indexing. (i.e. The first element of a collection in these languages is at element 0.)"
      ],
      "metadata": {
        "id": "zhghqhnOkMpb"
      }
    },
    {
      "cell_type": "markdown",
      "source": [
        "### Inserting and Appending Values into Vectors\n",
        "You can insert and append elements to a vector. R will actually create new vector with the elements you want when you do this. To append elements you can actually just use the <code>c()</code> function. Or you can use the aptly named <code>append()</code> function. The latter is more flexible as you can also use it insert elements into a vector or even prepend elements into a vector."
      ],
      "metadata": {
        "id": "mkfRDDBcqTQH"
      }
    },
    {
      "cell_type": "code",
      "source": [
        "v <- c(1, 2, 3)\n",
        "v <- c(v, 4) # Append 4 to the vector.\n",
        "print(v)\n",
        "\n",
        "# You can also use the append function\n",
        "# after specfies the index after which to insert the element\n",
        "# The first argument is the vector to operate on, the second\n",
        "# argument is the value to insert, the after argument specifies\n",
        "# the position of the insert.\n",
        "v <- append(v, 99, after=length(v))\n",
        "print(v)\n",
        "\n",
        "# You can use append to insert an element at specific point\n",
        "# in the vector.\n",
        "v <- append(v, 21, after=2)\n",
        "print(v)\n",
        "\n",
        "# You can 'prepend' an element to the begining of a vector\n",
        "# using append.\n",
        "v <- append(v, 11, after=0) # Here 0 means before the first element\n",
        "print(v)\n",
        "\n",
        "# You can insert multiple values in one go\n",
        "v <- append(v, c(5, 7), after=3)\n",
        "print(v)\n",
        "\n",
        "# And you can splice one vector into another\n",
        "u <- c(1, 1, 1)\n",
        "v <- append(v, u, after=4)\n",
        "print(v)"
      ],
      "metadata": {
        "colab": {
          "base_uri": "https://localhost:8080/"
        },
        "id": "Y1zQrGiDq3HP",
        "outputId": "88d16f82-f60a-409e-e705-4f467e26160c"
      },
      "execution_count": 231,
      "outputs": [
        {
          "output_type": "stream",
          "name": "stdout",
          "text": [
            "[1] 1 2 3 4\n",
            "[1]  1  2  3  4 99\n",
            "[1]  1  2 21  3  4 99\n",
            "[1] 11  1  2 21  3  4 99\n",
            "[1] 11  1  2  5  7 21  3  4 99\n",
            " [1] 11  1  2  5  1  1  1  7 21  3  4 99\n"
          ]
        }
      ]
    },
    {
      "cell_type": "markdown",
      "source": [
        "### Vector Assignment and Copy-on-modify Semantics\n",
        "\n",
        "Vectors can be assigned to other vectors. R behaves as if the two variables have completely different copies of the values that are assigned to them. In reality, for performance reasons, R only creates a single copy of the actual vector until one of the variables modifies the vector. At that point R will create a copy of the entire vector. You may want to keep this in mind if you are dealing with very large vectors.\n",
        "\n",
        "In the code below u is called *alias* of v, because it refers to the same block of memory under a different name. When you modify v, you trigger a copy operation to allow v to be safely modified without affecting u.  If v is very large vector, the seemingly innocuous, assignment operation can prove to be very expensive. It's best to keep variable aliasing to a minimum."
      ],
      "metadata": {
        "id": "ckOu_uCCUKeH"
      }
    },
    {
      "cell_type": "code",
      "source": [
        "v <- c(1, 2, 3)\n",
        "u <- v\n",
        "print(v)\n",
        "print(u)\n",
        "\n",
        "# You can modify u and v independently now.\n",
        "v[2] = 20\n",
        "print(v)\n",
        "print(u)\n"
      ],
      "metadata": {
        "colab": {
          "base_uri": "https://localhost:8080/"
        },
        "id": "f-03nIqIWGHs",
        "outputId": "f87b9b0e-8447-4c9a-80c5-d02380368429"
      },
      "execution_count": 232,
      "outputs": [
        {
          "output_type": "stream",
          "name": "stdout",
          "text": [
            "[1] 1 2 3\n",
            "[1] 1 2 3\n",
            "[1]  1 20  3\n",
            "[1] 1 2 3\n"
          ]
        }
      ]
    },
    {
      "cell_type": "markdown",
      "source": [
        "**[ADVANCED]** Some times, particularly in a complex program, you want to understand what is going on within the R interpreter in terms of copy-on-modify behaviour. To do this use the <code>tracemem()</code> function."
      ],
      "metadata": {
        "id": "L7K189gNb1q-"
      }
    },
    {
      "cell_type": "code",
      "source": [
        "v <- 1:10\n",
        "tracemem(v) # Keep track of, and report changes to memory used by v.\n",
        "v[3] <- 21\n",
        "u <- v\n",
        "v[4] <- 10\n",
        "print(u) # R is smart if you comment this line out there will be no copy-on-modify.\n"
      ],
      "metadata": {
        "colab": {
          "base_uri": "https://localhost:8080/",
          "height": 126
        },
        "id": "atRPWAaQeACh",
        "outputId": "583615af-7a7b-4cad-db89-9cae1483e23f"
      },
      "execution_count": 233,
      "outputs": [
        {
          "output_type": "display_data",
          "data": {
            "text/html": [
              "'&lt;0x5917c6e5d510&gt;'"
            ],
            "text/markdown": "'&lt;0x5917c6e5d510&gt;'",
            "text/latex": "'<0x5917c6e5d510>'",
            "text/plain": [
              "[1] \"<0x5917c6e5d510>\""
            ]
          },
          "metadata": {}
        },
        {
          "output_type": "stream",
          "name": "stdout",
          "text": [
            "tracemem[0x5917c6e5d510 -> 0x5917c7c61e18]: eval eval withVisible withCallingHandlers eval eval with_handlers doWithOneRestart withOneRestart withRestartList doWithOneRestart withOneRestart withRestartList withRestarts evaluate doTryCatch tryCatchOne tryCatchList doTryCatch tryCatchOne tryCatchList tryCatch <Anonymous> handle_shell <Anonymous> <Anonymous> \n",
            "tracemem[0x5917c7c61e18 -> 0x5917c870ef88]: eval eval withVisible withCallingHandlers eval eval with_handlers doWithOneRestart withOneRestart withRestartList doWithOneRestart withOneRestart withRestartList withRestarts evaluate doTryCatch tryCatchOne tryCatchList doTryCatch tryCatchOne tryCatchList tryCatch <Anonymous> handle_shell <Anonymous> <Anonymous> \n",
            "tracemem[0x5917c870ef88 -> 0x5917c983cdb8]: eval eval withVisible withCallingHandlers eval eval with_handlers doWithOneRestart withOneRestart withRestartList doWithOneRestart withOneRestart withRestartList withRestarts evaluate doTryCatch tryCatchOne tryCatchList doTryCatch tryCatchOne tryCatchList tryCatch <Anonymous> handle_shell <Anonymous> <Anonymous> \n",
            " [1]  1  2 21  4  5  6  7  8  9 10\n"
          ]
        }
      ]
    },
    {
      "cell_type": "markdown",
      "source": [
        "Vectors, as stated before are a foundational data structure in R. This is because R is primarily used for analysis of large data sets and having vectors as the primary data structure makes such analysis easier."
      ],
      "metadata": {
        "id": "3tN8BUxkP8jq"
      }
    },
    {
      "cell_type": "markdown",
      "source": [
        "## Lists\n",
        "\n",
        "Vectors are ordered collections of *homogeneous* items. All items in a vector must be of the same type. If you want to handle vectors of a different type\n",
        "you need lists."
      ],
      "metadata": {
        "id": "zitB7f1lMumb"
      }
    },
    {
      "cell_type": "code",
      "source": [
        "l <- list(\"cabbage\", 23.5, 10)\n",
        "print(l)"
      ],
      "metadata": {
        "colab": {
          "base_uri": "https://localhost:8080/"
        },
        "id": "U_Ea_LXBLgYA",
        "outputId": "ff4074ea-1cf7-4a9c-bb02-4de9cc2ddfbd"
      },
      "execution_count": 234,
      "outputs": [
        {
          "output_type": "stream",
          "name": "stdout",
          "text": [
            "[[1]]\n",
            "[1] \"cabbage\"\n",
            "\n",
            "[[2]]\n",
            "[1] 23.5\n",
            "\n",
            "[[3]]\n",
            "[1] 10\n",
            "\n"
          ]
        }
      ]
    },
    {
      "cell_type": "markdown",
      "source": [
        "Lists elements can be labelled."
      ],
      "metadata": {
        "id": "nD_Nx61YPb_x"
      }
    },
    {
      "cell_type": "code",
      "source": [
        "l <- list(item=\"cabbage\", price=23.5, quantity=10)\n",
        "print(l)"
      ],
      "metadata": {
        "colab": {
          "base_uri": "https://localhost:8080/"
        },
        "id": "p05XAXZwPhMm",
        "outputId": "f4aeb8a1-0597-4a90-d3b5-1fcb0e75212d"
      },
      "execution_count": 235,
      "outputs": [
        {
          "output_type": "stream",
          "name": "stdout",
          "text": [
            "$item\n",
            "[1] \"cabbage\"\n",
            "\n",
            "$price\n",
            "[1] 23.5\n",
            "\n",
            "$quantity\n",
            "[1] 10\n",
            "\n"
          ]
        }
      ]
    },
    {
      "cell_type": "markdown",
      "source": [
        "You can of course have lists of vectors with more than one element."
      ],
      "metadata": {
        "id": "GbSujwDnh6IA"
      }
    },
    {
      "cell_type": "code",
      "source": [
        "l <- list(items=c(\"cabbage\", \"cauliflower\", \"broccoli\"), prices=c(23.5, 15.1, 32.8), quantities=c(10, 30, 5))\n",
        "print(l)"
      ],
      "metadata": {
        "colab": {
          "base_uri": "https://localhost:8080/"
        },
        "id": "QCNPhyi_iAgx",
        "outputId": "06a73811-f2c3-4579-f4f6-e92b80031d24"
      },
      "execution_count": 236,
      "outputs": [
        {
          "output_type": "stream",
          "name": "stdout",
          "text": [
            "$items\n",
            "[1] \"cabbage\"     \"cauliflower\" \"broccoli\"   \n",
            "\n",
            "$prices\n",
            "[1] 23.5 15.1 32.8\n",
            "\n",
            "$quantities\n",
            "[1] 10 30  5\n",
            "\n"
          ]
        }
      ]
    },
    {
      "cell_type": "markdown",
      "source": [
        "Notice that <code>print()</code> prefixes each element of the list with a separate double square bracket label for lists without labels and $label_name for lists with labels. This tells the reader which element in the list they are looking at.\n",
        "\n",
        "But the <code>print()</code> function's output format also hints at the underlying implementation of lists. Lists are built on top of vectors. They are collections of vectors. Each element in the list is itself a vector. In the cases above each element is a vector of length 1."
      ],
      "metadata": {
        "id": "0pLDWzTVQnoE"
      }
    },
    {
      "cell_type": "code",
      "source": [
        "v <- l[1]\n",
        "print(v)\n",
        "e <- v[1]\n",
        "print(e) # Gets the first element of the first vector in list l."
      ],
      "metadata": {
        "colab": {
          "base_uri": "https://localhost:8080/"
        },
        "id": "rTqg2boejLBw",
        "outputId": "4425ee57-9f24-43e5-e4f5-2e1eaaf715a5"
      },
      "execution_count": 237,
      "outputs": [
        {
          "output_type": "stream",
          "name": "stdout",
          "text": [
            "$items\n",
            "[1] \"cabbage\"     \"cauliflower\" \"broccoli\"   \n",
            "\n",
            "$items\n",
            "[1] \"cabbage\"     \"cauliflower\" \"broccoli\"   \n",
            "\n"
          ]
        }
      ]
    },
    {
      "cell_type": "markdown",
      "source": [
        "You can access individual element is a list using the double-bracked subscripting operator."
      ],
      "metadata": {
        "id": "H-UHVoiO5EDY"
      }
    },
    {
      "cell_type": "code",
      "source": [
        "v <- l[[1]]\n",
        "print(v)\n",
        "print(typeof(v)) # character means its a list of strings.\n",
        "\n",
        "# If you want the first element of the element in the list\n",
        "e <- l[[1]][1]\n",
        "print(e)"
      ],
      "metadata": {
        "colab": {
          "base_uri": "https://localhost:8080/"
        },
        "id": "yYpwRl--5iu5",
        "outputId": "4f92fc37-d1e8-4a16-c165-3b774fe7e96f"
      },
      "execution_count": 238,
      "outputs": [
        {
          "output_type": "stream",
          "name": "stdout",
          "text": [
            "[1] \"cabbage\"     \"cauliflower\" \"broccoli\"   \n",
            "[1] \"character\"\n",
            "[1] \"cabbage\"\n"
          ]
        }
      ]
    },
    {
      "cell_type": "markdown",
      "source": [
        "You can also use the single-bracket operator. But this returns a sub-list, not the vector element of the list. You can see that by looking at the type of the object returned withthe <code>typeof()</code> function, which prints 'list' in this case."
      ],
      "metadata": {
        "id": "DotEwYul53rq"
      }
    },
    {
      "cell_type": "code",
      "source": [
        "sl <- l[1]\n",
        "print(sl)\n",
        "print(typeof(sl)) # sl is a list not a vector."
      ],
      "metadata": {
        "colab": {
          "base_uri": "https://localhost:8080/"
        },
        "id": "3U1ANn5x5_GD",
        "outputId": "b3234e84-c53b-4cf1-db0f-701b5576f1cc"
      },
      "execution_count": 239,
      "outputs": [
        {
          "output_type": "stream",
          "name": "stdout",
          "text": [
            "$items\n",
            "[1] \"cabbage\"     \"cauliflower\" \"broccoli\"   \n",
            "\n",
            "[1] \"list\"\n"
          ]
        }
      ]
    },
    {
      "cell_type": "markdown",
      "source": [
        "You can also access elements of a list by name either with the double-bracket operator or the $ operator. The latter is a shorthand for the double-bracket notation."
      ],
      "metadata": {
        "id": "-00Z5N6Z6uWa"
      }
    },
    {
      "cell_type": "code",
      "source": [
        "# Using the name of the element and the double-bracket notation\n",
        "v <- l[[\"items\"]]\n",
        "print(v)\n",
        "\n",
        "# Using the $ operator.\n",
        "v <- l$items\n",
        "print(v)\n",
        "# Get the second element\n",
        "e <- v[2]\n",
        "print(e)\n",
        "# Or more directly\n",
        "e <- l$item[2]\n",
        "print(e)\n",
        "\n",
        "# Or with the double-bracket operator\n",
        "e <- l[[\"items\"]][2]\n",
        "print(e)"
      ],
      "metadata": {
        "colab": {
          "base_uri": "https://localhost:8080/"
        },
        "id": "s872hxAB6zf7",
        "outputId": "9655243a-3026-4e0d-a910-e9aaff0b5dc3"
      },
      "execution_count": 240,
      "outputs": [
        {
          "output_type": "stream",
          "name": "stdout",
          "text": [
            "[1] \"cabbage\"     \"cauliflower\" \"broccoli\"   \n",
            "[1] \"cabbage\"     \"cauliflower\" \"broccoli\"   \n",
            "[1] \"cauliflower\"\n",
            "[1] \"cauliflower\"\n",
            "[1] \"cauliflower\"\n"
          ]
        }
      ]
    },
    {
      "cell_type": "markdown",
      "source": [
        "## Data Frames\n",
        "\n",
        "Data frames are essentially lists where all the elements are all of equal length."
      ],
      "metadata": {
        "id": "8__HXw-c_648"
      }
    },
    {
      "cell_type": "code",
      "source": [
        "df <- data.frame(\n",
        "  id=c(1, 2, 3),\n",
        "  name=c('Akbar', 'Bharat', 'Chetna'),\n",
        "  passed=c(TRUE, FALSE, TRUE)\n",
        ")\n",
        "print(typeof(df)) # It's just a list.\n",
        "\n",
        "# The print method is smart about formatting data frames.\n",
        "# It does it differently than it does lists.\n",
        "print(df)"
      ],
      "metadata": {
        "colab": {
          "base_uri": "https://localhost:8080/"
        },
        "id": "27DL33GfAKci",
        "outputId": "a0da0276-901f-4d37-f354-222e36d4238c"
      },
      "execution_count": 241,
      "outputs": [
        {
          "output_type": "stream",
          "name": "stdout",
          "text": [
            "[1] \"list\"\n",
            "  id   name passed\n",
            "1  1  Akbar   TRUE\n",
            "2  2 Bharat  FALSE\n",
            "3  3 Chetna   TRUE\n"
          ]
        }
      ]
    },
    {
      "cell_type": "markdown",
      "source": [
        "First the name. The dot in the name does not mean anything, its just part of the name of function 'data.frame'. There isn't anything named data that frame is a part of. This can be confusing at first, if you come from another programming language like Python where the dot is the attribute operator in the language."
      ],
      "metadata": {
        "id": "rmi1PJNxCLdK"
      }
    },
    {
      "cell_type": "markdown",
      "source": [
        "Notice that unlike lists, the <code>print()</code> function formats the the elements of the list as columns. so <code>df[[\"name\"]]</code> will give you the first element or column of the list. This is just formatting though. There is no change to the memory layout."
      ],
      "metadata": {
        "id": "8bP7xxElCkoD"
      }
    },
    {
      "cell_type": "code",
      "source": [
        "# Get the first column of the frame:\n",
        "names <- df[[\"name\"]]\n",
        "print(names)\n",
        "# Or alternatively use the $ operator\n",
        "names <- df$name\n",
        "print(names)\n"
      ],
      "metadata": {
        "colab": {
          "base_uri": "https://localhost:8080/"
        },
        "id": "Y5YXXRuQE4JS",
        "outputId": "fcb791b7-a39a-4477-e348-e42de5e3c3cc"
      },
      "execution_count": 242,
      "outputs": [
        {
          "output_type": "stream",
          "name": "stdout",
          "text": [
            "[1] \"Akbar\"  \"Bharat\" \"Chetna\"\n",
            "[1] \"Akbar\"  \"Bharat\" \"Chetna\"\n"
          ]
        }
      ]
    },
    {
      "cell_type": "markdown",
      "source": [
        "R enhances the capabilities of the single-bracket operator <code>[]</code> to treat a data frame as a two-dimensional object. You can retrieve elements by row and column. You can get an entire rows or columns by omiting the the column value or the row value respectively."
      ],
      "metadata": {
        "id": "j21dPFDoG0da"
      }
    },
    {
      "cell_type": "code",
      "source": [
        "akbar_passed <- df[1, 3] # The first row, column\n",
        "print(akbar_passed)\n",
        "\n",
        "akbar <- df[1,]\n",
        "print(akbar)\n",
        "print(typeof(akbar)) # Note that akbar is also a data frame. But with only one row.\n",
        "\n",
        "names <- df[, 2]\n",
        "print(names)\n",
        "print(typeof(names)) # But this time, names is NOT a data frame, its a vector of strings"
      ],
      "metadata": {
        "colab": {
          "base_uri": "https://localhost:8080/"
        },
        "id": "3sY7ojDsHH05",
        "outputId": "5e5606c3-b199-4e93-bf6e-ed9f4436d309"
      },
      "execution_count": 243,
      "outputs": [
        {
          "output_type": "stream",
          "name": "stdout",
          "text": [
            "[1] TRUE\n",
            "  id  name passed\n",
            "1  1 Akbar   TRUE\n",
            "[1] \"list\"\n",
            "[1] \"Akbar\"  \"Bharat\" \"Chetna\"\n",
            "[1] \"character\"\n"
          ]
        }
      ]
    },
    {
      "cell_type": "markdown",
      "source": [
        "You can add entire columns to data frame, and you can replace columns in a data frame with other values."
      ],
      "metadata": {
        "id": "ofi13B_BJ-jx"
      }
    },
    {
      "cell_type": "code",
      "source": [
        "df[[\"marks\"]] <- c(80, 60, 90)\n",
        "print(df) # df has a new column.\n",
        "\n",
        "# You can replace the values in a column with new values.\n",
        "df[[\"passed\"]] <- c(TRUE, TRUE, TRUE)\n",
        "print(df) # df has a new column."
      ],
      "metadata": {
        "colab": {
          "base_uri": "https://localhost:8080/"
        },
        "id": "PoMf-CmEKRRz",
        "outputId": "68015cf6-c1b8-4030-e731-18ae5937cb83"
      },
      "execution_count": 244,
      "outputs": [
        {
          "output_type": "stream",
          "name": "stdout",
          "text": [
            "  id   name passed marks\n",
            "1  1  Akbar   TRUE    80\n",
            "2  2 Bharat  FALSE    60\n",
            "3  3 Chetna   TRUE    90\n",
            "  id   name passed marks\n",
            "1  1  Akbar   TRUE    80\n",
            "2  2 Bharat   TRUE    60\n",
            "3  3 Chetna   TRUE    90\n"
          ]
        }
      ]
    },
    {
      "cell_type": "markdown",
      "source": [
        "You can add rows using the <code>rbind()</code> function. rbind is short for 'row bind'."
      ],
      "metadata": {
        "id": "qrVt5nwrPMsC"
      }
    },
    {
      "cell_type": "code",
      "source": [
        "# Add a row as a list. Note that the list *must* have\n",
        "# all the columns of the data frame to which it is being added.\n",
        "# You cannot have missing columnd.\n",
        "dharam <- list(id=4, name=\"Dharam\", passed=FALSE, marks=25)\n",
        "df <- rbind(df, dharam)\n",
        "print(df)\n",
        "\n",
        "# You can also add a row as a data frame.\n",
        "# Note that the data frame being added *must* have\n",
        "# all the columns of the data frame to which it is being added.\n",
        "eknath <- data.frame(id=5, name=\"Eknath\", passed=TRUE, marks=50)\n",
        "df <- rbind(df, eknath)\n",
        "print(df)"
      ],
      "metadata": {
        "colab": {
          "base_uri": "https://localhost:8080/"
        },
        "id": "5z9srBMJLV72",
        "outputId": "aac2d953-cec7-4dbd-b416-8f829a7b70bf"
      },
      "execution_count": 245,
      "outputs": [
        {
          "output_type": "stream",
          "name": "stdout",
          "text": [
            "  id   name passed marks\n",
            "1  1  Akbar   TRUE    80\n",
            "2  2 Bharat   TRUE    60\n",
            "3  3 Chetna   TRUE    90\n",
            "4  4 Dharam  FALSE    25\n",
            "  id   name passed marks\n",
            "1  1  Akbar   TRUE    80\n",
            "2  2 Bharat   TRUE    60\n",
            "3  3 Chetna   TRUE    90\n",
            "4  4 Dharam  FALSE    25\n",
            "5  5 Eknath   TRUE    50\n"
          ]
        }
      ]
    },
    {
      "cell_type": "markdown",
      "source": [
        "You can use dplyr layer library's bind_rows function to bind rows. This is much more flexible as you can add rows where some column values are missing. Notice that missing values are given the value NA. Which is R's equivalent of Python's None or Java's null."
      ],
      "metadata": {
        "id": "8eu0mxV6O_1g"
      }
    },
    {
      "cell_type": "code",
      "source": [
        "library(\"dplyr\")\n",
        "feroz <- data.frame(name=\"Feroz\", marks=75)\n",
        "df <- bind_rows(df, feroz)\n",
        "print(df)"
      ],
      "metadata": {
        "colab": {
          "base_uri": "https://localhost:8080/"
        },
        "id": "tvphoBL1P-c_",
        "outputId": "e1114d26-adf0-45fa-f03e-b04083417004"
      },
      "execution_count": 246,
      "outputs": [
        {
          "output_type": "stream",
          "name": "stdout",
          "text": [
            "  id   name passed marks\n",
            "1  1  Akbar   TRUE    80\n",
            "2  2 Bharat   TRUE    60\n",
            "3  3 Chetna   TRUE    90\n",
            "4  4 Dharam  FALSE    25\n",
            "5  5 Eknath   TRUE    50\n",
            "6 NA  Feroz     NA    75\n"
          ]
        }
      ]
    },
    {
      "cell_type": "markdown",
      "source": [
        "Notice how we imported a library to use a function from it."
      ],
      "metadata": {
        "id": "Vrf5z5J2RTLE"
      }
    }
  ]
}