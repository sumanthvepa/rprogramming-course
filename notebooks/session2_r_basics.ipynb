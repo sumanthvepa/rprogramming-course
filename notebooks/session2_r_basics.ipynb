{
  "cells": [
    {
      "cell_type": "markdown",
      "id": "c35ace3d",
      "metadata": {
        "id": "c35ace3d"
      },
      "source": [
        "# Session 2: Overview of the R Programming Language\n",
        "**Duration:** 3 hours\n",
        "\n",
        "This notebook follows the lecture content for Session 2 of the R Programming course.\n",
        "It introduces the basics of R programming language: data structures, functions, control flow, graphics, and statistical modeling."
      ]
    },
    {
      "cell_type": "markdown",
      "id": "cd5cb8d4",
      "metadata": {
        "id": "cd5cb8d4"
      },
      "source": [
        "## 1. Getting Setup\n",
        "\n",
        "R can be run in multiple environments:\n",
        "- Command line (R console)\n",
        "- RStudio\n",
        "- Jupyter Notebooks (with IRkernel)\n",
        "  - Google Colab\n",
        "  - Self hosted"
      ]
    },
    {
      "cell_type": "code",
      "execution_count": null,
      "id": "135827b2",
      "metadata": {
        "language": "R",
        "id": "135827b2"
      },
      "outputs": [],
      "source": [
        "2 + 2\n",
        "print('Hello, R!')"
      ]
    },
    {
      "cell_type": "markdown",
      "id": "840a1673",
      "metadata": {
        "id": "840a1673"
      },
      "source": [
        "## 2. Simple Manipulations: Numbers and Vectors"
      ]
    },
    {
      "cell_type": "code",
      "execution_count": null,
      "id": "f4af117b",
      "metadata": {
        "language": "R",
        "id": "f4af117b"
      },
      "outputs": [],
      "source": [
        "3 + 2\n",
        "3 - 2\n",
        "3 * 2\n",
        "3 / 2\n",
        "3 ^ 2"
      ]
    },
    {
      "cell_type": "code",
      "execution_count": null,
      "id": "c7637dc0",
      "metadata": {
        "language": "R",
        "id": "c7637dc0"
      },
      "outputs": [],
      "source": [
        "v <- c(10, 20, 30, 40)\n",
        "v\n",
        "1:10\n",
        "seq(1, 10, by=2)\n",
        "rep(5, times=4)\n",
        "v + 5\n",
        "v * 2"
      ]
    },
    {
      "cell_type": "markdown",
      "id": "d2ebe540",
      "metadata": {
        "id": "d2ebe540"
      },
      "source": [
        "## 3. Objects"
      ]
    },
    {
      "cell_type": "code",
      "execution_count": null,
      "id": "29ab5782",
      "metadata": {
        "language": "R",
        "id": "29ab5782"
      },
      "outputs": [],
      "source": [
        "name <- 'Alice'\n",
        "age <- 25\n",
        "is_student <- TRUE\n",
        "class(age)\n",
        "typeof(age)"
      ]
    },
    {
      "cell_type": "markdown",
      "id": "d28a99b7",
      "metadata": {
        "id": "d28a99b7"
      },
      "source": [
        "## 4. Factors"
      ]
    },
    {
      "cell_type": "code",
      "execution_count": null,
      "id": "7f0794ff",
      "metadata": {
        "language": "R",
        "id": "7f0794ff"
      },
      "outputs": [],
      "source": [
        "gender <- factor(c('male', 'female', 'female', 'male'))\n",
        "gender\n",
        "levels(gender)"
      ]
    },
    {
      "cell_type": "code",
      "execution_count": null,
      "id": "799a8dd1",
      "metadata": {
        "language": "R",
        "id": "799a8dd1"
      },
      "outputs": [],
      "source": [
        "size <- factor(c('small', 'large', 'medium'),\n",
        "                 levels = c('small', 'medium', 'large'),\n",
        "                 ordered = TRUE)\n",
        "size"
      ]
    },
    {
      "cell_type": "markdown",
      "id": "f65b9174",
      "metadata": {
        "id": "f65b9174"
      },
      "source": [
        "## 5. Arrays and Matrices"
      ]
    },
    {
      "cell_type": "code",
      "execution_count": null,
      "id": "2ebd5a21",
      "metadata": {
        "language": "R",
        "id": "2ebd5a21"
      },
      "outputs": [],
      "source": [
        "m <- matrix(1:9, nrow=3, ncol=3)\n",
        "m\n",
        "m[1,2]"
      ]
    },
    {
      "cell_type": "code",
      "execution_count": null,
      "id": "0805aafc",
      "metadata": {
        "language": "R",
        "id": "0805aafc"
      },
      "outputs": [],
      "source": [
        "a <- array(1:24, dim=c(3,4,2))\n",
        "a"
      ]
    },
    {
      "cell_type": "markdown",
      "id": "88f2e911",
      "metadata": {
        "id": "88f2e911"
      },
      "source": [
        "## 6. Lists and Data Frames"
      ]
    },
    {
      "cell_type": "code",
      "execution_count": null,
      "id": "7d9dcba4",
      "metadata": {
        "language": "R",
        "id": "7d9dcba4"
      },
      "outputs": [],
      "source": [
        "lst <- list(name='Alice', scores=c(90,85,88), passed=TRUE)\n",
        "lst\n",
        "lst$name"
      ]
    },
    {
      "cell_type": "code",
      "execution_count": null,
      "id": "7287bcac",
      "metadata": {
        "language": "R",
        "id": "7287bcac"
      },
      "outputs": [],
      "source": [
        "df <- data.frame(id=1:3, name=c('Ann','Bob','Cara'), score=c(85,90,88))\n",
        "df\n",
        "df$score"
      ]
    },
    {
      "cell_type": "markdown",
      "id": "81c42bc2",
      "metadata": {
        "id": "81c42bc2"
      },
      "source": [
        "## 7. Reading from Files\n",
        "\n",
        "Example (requires `data.csv` file in working directory):"
      ]
    },
    {
      "cell_type": "code",
      "execution_count": null,
      "id": "77ef5720",
      "metadata": {
        "language": "R",
        "id": "77ef5720"
      },
      "outputs": [],
      "source": [
        "# data <- read.csv('data.csv')\n",
        "# head(data)\n",
        "\n",
        "# write.csv(df, 'output.csv', row.names=FALSE)"
      ]
    },
    {
      "cell_type": "markdown",
      "id": "70b7e101",
      "metadata": {
        "id": "70b7e101"
      },
      "source": [
        "## 8. Probability Distributions"
      ]
    },
    {
      "cell_type": "code",
      "execution_count": null,
      "id": "ad81346b",
      "metadata": {
        "language": "R",
        "id": "ad81346b"
      },
      "outputs": [],
      "source": [
        "rnorm(5, mean=0, sd=1)\n",
        "runif(5, min=0, max=1)\n",
        "rbinom(5, size=10, prob=0.5)"
      ]
    },
    {
      "cell_type": "markdown",
      "id": "0908c6a8",
      "metadata": {
        "id": "0908c6a8"
      },
      "source": [
        "## 9. Control Structures"
      ]
    },
    {
      "cell_type": "code",
      "execution_count": null,
      "id": "965fbfda",
      "metadata": {
        "language": "R",
        "id": "965fbfda"
      },
      "outputs": [],
      "source": [
        "x <- 5\n",
        "if (x > 0) {\n",
        "  print('Positive')\n",
        "} else {\n",
        "  print('Non-positive')\n",
        "}"
      ]
    },
    {
      "cell_type": "code",
      "execution_count": null,
      "id": "9f937e03",
      "metadata": {
        "language": "R",
        "id": "9f937e03"
      },
      "outputs": [],
      "source": [
        "for (i in 1:5) {\n",
        "  print(i)\n",
        "}\n",
        "\n",
        "x <- 0\n",
        "while (x < 5) {\n",
        "  x <- x + 1\n",
        "  print(x)\n",
        "}"
      ]
    },
    {
      "cell_type": "markdown",
      "id": "1f28ac1f",
      "metadata": {
        "id": "1f28ac1f"
      },
      "source": [
        "## 10. Functions"
      ]
    },
    {
      "cell_type": "code",
      "execution_count": null,
      "id": "5458bc31",
      "metadata": {
        "language": "R",
        "id": "5458bc31"
      },
      "outputs": [],
      "source": [
        "square <- function(x) {\n",
        "  return(x^2)\n",
        "}\n",
        "square(4)"
      ]
    },
    {
      "cell_type": "code",
      "execution_count": null,
      "id": "ee34b7d0",
      "metadata": {
        "language": "R",
        "id": "ee34b7d0"
      },
      "outputs": [],
      "source": [
        "greet <- function(name='Student') {\n",
        "  print(paste('Hello,', name))\n",
        "}\n",
        "greet()\n",
        "greet('Alice')"
      ]
    },
    {
      "cell_type": "markdown",
      "id": "7f0f0b97",
      "metadata": {
        "id": "7f0f0b97"
      },
      "source": [
        "## 11. Graphics"
      ]
    },
    {
      "cell_type": "code",
      "execution_count": null,
      "id": "304ff3ab",
      "metadata": {
        "language": "R",
        "id": "304ff3ab"
      },
      "outputs": [],
      "source": [
        "x <- rnorm(100)\n",
        "hist(x)\n",
        "plot(x, main='Random Normal Scatter')"
      ]
    },
    {
      "cell_type": "markdown",
      "id": "2af0e200",
      "metadata": {
        "id": "2af0e200"
      },
      "source": [
        "## 12. Statistical Models"
      ]
    },
    {
      "cell_type": "code",
      "execution_count": null,
      "id": "5de893b5",
      "metadata": {
        "language": "R",
        "id": "5de893b5"
      },
      "outputs": [],
      "source": [
        "df <- data.frame(x=1:10, y=(1:10)*2 + rnorm(10))\n",
        "model <- lm(y ~ x, data=df)\n",
        "summary(model)"
      ]
    },
    {
      "cell_type": "code",
      "execution_count": null,
      "id": "46bbfcbe",
      "metadata": {
        "language": "R",
        "id": "46bbfcbe"
      },
      "outputs": [],
      "source": [
        "predict(model, newdata=data.frame(x=11:15))"
      ]
    },
    {
      "cell_type": "markdown",
      "id": "3c69855d",
      "metadata": {
        "id": "3c69855d"
      },
      "source": [
        "## 13. Standard Packages\n",
        "\n",
        "Install and load packages (example with `ggplot2`):"
      ]
    },
    {
      "cell_type": "code",
      "execution_count": null,
      "id": "abe33380",
      "metadata": {
        "language": "R",
        "id": "abe33380"
      },
      "outputs": [],
      "source": [
        "# install.packages('ggplot2')\n",
        "library(ggplot2)"
      ]
    },
    {
      "cell_type": "markdown",
      "id": "8641feac",
      "metadata": {
        "id": "8641feac"
      },
      "source": [
        "## 14. OS Facilities"
      ]
    },
    {
      "cell_type": "code",
      "execution_count": null,
      "id": "460b8d01",
      "metadata": {
        "language": "R",
        "id": "460b8d01"
      },
      "outputs": [],
      "source": [
        "getwd()\n",
        "#setwd('path/to/folder')\n",
        "dir()"
      ]
    },
    {
      "cell_type": "code",
      "execution_count": null,
      "id": "508d937d",
      "metadata": {
        "language": "R",
        "id": "508d937d"
      },
      "outputs": [],
      "source": [
        "system('ls')\n",
        "file.exists('data.csv')"
      ]
    },
    {
      "cell_type": "markdown",
      "id": "0008278e",
      "metadata": {
        "id": "0008278e"
      },
      "source": [
        "## Wrap-up & Q&A\n",
        "\n",
        "- We covered: vectors, factors, matrices, lists, data frames.\n",
        "- Reading files, probability distributions, control flow.\n",
        "- Functions, graphics, models, packages, OS tools.\n",
        "- Using R across environments."
      ]
    }
  ],
  "metadata": {
    "colab": {
      "provenance": []
    }
  },
  "nbformat": 4,
  "nbformat_minor": 5
}